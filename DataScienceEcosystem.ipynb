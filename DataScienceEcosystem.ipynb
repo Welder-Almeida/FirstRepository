{
 "cells": [
  {
   "cell_type": "markdown",
   "id": "278bd3dc-09eb-43ff-95bc-276478c22a75",
   "metadata": {},
   "source": [
    "# **Data Science Tools and Ecosystem**"
   ]
  },
  {
   "cell_type": "markdown",
   "id": "31e7a8b0-5eb9-4bf0-91df-9d5512e3f110",
   "metadata": {},
   "source": [
    " **Objectives**:\n",
    "  * List popular languages for Data Science\n",
    "  * List the main libraries used by Data Scientists\n",
    "  * List some evaluating arithmetic expressions in some languages."
   ]
  },
  {
   "cell_type": "markdown",
   "id": "08eb538f-309a-4538-bd27-33b3d30861bf",
   "metadata": {},
   "source": [
    "In this notebook, Data Science Tools and Ecosystem are summarized."
   ]
  },
  {
   "cell_type": "markdown",
   "id": "18be5957-f0a9-4dcc-b217-0016355b9347",
   "metadata": {},
   "source": [
    "Some of the popular languages that Data Scientists use are:"
   ]
  },
  {
   "cell_type": "markdown",
   "id": "fb4b021c-74f3-4007-b0d7-8c1cc80f4c76",
   "metadata": {},
   "source": [
    "1. R\n",
    "2. Julia\n",
    "3. Python\n",
    "4. Scala\n",
    "5. SQL"
   ]
  },
  {
   "cell_type": "markdown",
   "id": "1aa2c8b5-a5e4-4107-9660-abf26b852078",
   "metadata": {},
   "source": [
    "Some of the commonly used libraries used by Data Scientists include:"
   ]
  },
  {
   "cell_type": "markdown",
   "id": "83999721-b766-4481-9716-d592e5f2f5e9",
   "metadata": {},
   "source": [
    "1. ggplot\n",
    "2. plotly\n",
    "3. numpy"
   ]
  },
  {
   "cell_type": "markdown",
   "id": "9bd3faa4-91df-403c-b63e-0d07e5c7592f",
   "metadata": {},
   "source": [
    "| Data Science Tools |\n",
    "----------------------\n",
    "| Jupyter Notebook |\n",
    "| JupyterLab |\n",
    "| Anaconda |\n",
    "| RStudio |"
   ]
  },
  {
   "cell_type": "markdown",
   "id": "fdd0db15-3ea2-461b-b7cc-b66e405a08c0",
   "metadata": {},
   "source": [
    "Below are a few examples of evaluating arithmetic expressions in Python"
   ]
  },
  {
   "cell_type": "code",
   "execution_count": 4,
   "id": "8e4be154-fb79-4e67-b780-2d0d34d62741",
   "metadata": {},
   "outputs": [
    {
     "data": {
      "text/plain": [
       "2.0"
      ]
     },
     "execution_count": 4,
     "metadata": {},
     "output_type": "execute_result"
    }
   ],
   "source": [
    "4 / 2"
   ]
  },
  {
   "cell_type": "code",
   "execution_count": 5,
   "id": "e60e851b-efa2-48cf-9db7-e6159e10e308",
   "metadata": {},
   "outputs": [
    {
     "data": {
      "text/plain": [
       "35"
      ]
     },
     "execution_count": 5,
     "metadata": {},
     "output_type": "execute_result"
    }
   ],
   "source": [
    "7 * 5"
   ]
  },
  {
   "cell_type": "code",
   "execution_count": 6,
   "id": "6d9debba-1ba5-4d4d-a871-dcfdc492fa58",
   "metadata": {},
   "outputs": [
    {
     "data": {
      "text/plain": [
       "20"
      ]
     },
     "execution_count": 6,
     "metadata": {},
     "output_type": "execute_result"
    }
   ],
   "source": [
    "9 + 11"
   ]
  },
  {
   "cell_type": "markdown",
   "id": "b8706c74-7409-4038-a701-b20a82f376ea",
   "metadata": {},
   "source": [
    "This is a simple arithmetic expression to multiply then add integers"
   ]
  },
  {
   "cell_type": "code",
   "execution_count": 7,
   "id": "05b212fd-7b11-472f-a342-81cff66060ff",
   "metadata": {},
   "outputs": [
    {
     "data": {
      "text/plain": [
       "17"
      ]
     },
     "execution_count": 7,
     "metadata": {},
     "output_type": "execute_result"
    }
   ],
   "source": [
    "(3*4)+5"
   ]
  },
  {
   "cell_type": "markdown",
   "id": "4ace005e-ea6a-4e1c-8e9f-d7aea28aca6f",
   "metadata": {},
   "source": [
    "This will convert 200 minutes to hours by dividing by 60"
   ]
  },
  {
   "cell_type": "code",
   "execution_count": 8,
   "id": "71d1e430-df80-4716-aec0-3227b5995e2b",
   "metadata": {},
   "outputs": [
    {
     "data": {
      "text/plain": [
       "3.3333333333333335"
      ]
     },
     "execution_count": 8,
     "metadata": {},
     "output_type": "execute_result"
    }
   ],
   "source": [
    "200 / 60"
   ]
  },
  {
   "cell_type": "markdown",
   "id": "255b5ff1-e4b0-4d2d-b50d-d40adb1a9cad",
   "metadata": {},
   "source": [
    "## Author"
   ]
  },
  {
   "cell_type": "markdown",
   "id": "3900363c-7b55-43b4-907b-a32919f0bb99",
   "metadata": {},
   "source": [
    "Welder Oliveira de Almeida"
   ]
  },
  {
   "cell_type": "code",
   "execution_count": null,
   "id": "d4b0e800-e3d3-4901-974c-9b96b83cc9cb",
   "metadata": {},
   "outputs": [],
   "source": []
  }
 ],
 "metadata": {
  "kernelspec": {
   "display_name": "anaconda-panel-2023.05-py310",
   "language": "python",
   "name": "conda-env-anaconda-panel-2023.05-py310-py"
  },
  "language_info": {
   "codemirror_mode": {
    "name": "ipython",
    "version": 3
   },
   "file_extension": ".py",
   "mimetype": "text/x-python",
   "name": "python",
   "nbconvert_exporter": "python",
   "pygments_lexer": "ipython3",
   "version": "3.11.5"
  }
 },
 "nbformat": 4,
 "nbformat_minor": 5
}
